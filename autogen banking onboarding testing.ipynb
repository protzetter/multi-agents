{
 "cells": [
  {
   "cell_type": "code",
   "execution_count": 1,
   "metadata": {},
   "outputs": [],
   "source": [
    "import os\n",
    "from dotenv import load_dotenv\n",
    "load_dotenv()\n",
    "\n",
    "\n",
    "config_list_claude = [\n",
    "    {\n",
    "        \"model\": \"claude-3-5-sonnet-20240620\",\n",
    "        \"api_key\": os.getenv(\"ANTHROPIC_API_KEY\"),\n",
    "        \"api_type\": \"anthropic\",\n",
    "    }\n",
    "]"
   ]
  },
  {
   "cell_type": "code",
   "execution_count": 2,
   "metadata": {},
   "outputs": [],
   "source": [
    "llm_config = {\n",
    "    \"request_timeout\": 600,\n",
    "    \"config_list\": config_list_claude,\n",
    "    \"temperature\": 0\n",
    "}\n"
   ]
  },
  {
   "cell_type": "code",
   "execution_count": 3,
   "metadata": {},
   "outputs": [
    {
     "name": "stderr",
     "output_type": "stream",
     "text": [
      "flaml.automl is not available. Please install flaml[automl] to enable AutoML functionalities.\n"
     ]
    }
   ],
   "source": [
    "from autogen.agentchat.contrib.retrieve_assistant_agent import AssistantAgent\n",
    "from autogen.agentchat.contrib.retrieve_user_proxy_agent import RetrieveUserProxyAgent"
   ]
  },
  {
   "cell_type": "code",
   "execution_count": 5,
   "metadata": {},
   "outputs": [],
   "source": [
    "from autogen import ConversableAgent"
   ]
  },
  {
   "cell_type": "code",
   "execution_count": 6,
   "metadata": {},
   "outputs": [],
   "source": [
    "customer_proxy_agent = ConversableAgent(\n",
    "    name=\"customer_proxy_agent\",\n",
    "    llm_config=False,\n",
    "    code_execution_config=False,\n",
    "    human_input_mode=\"ALWAYS\",\n",
    "    is_termination_msg=lambda msg: \"terminate\" in msg.get(\"content\").lower(),\n",
    ")"
   ]
  },
  {
   "cell_type": "code",
   "execution_count": 31,
   "metadata": {},
   "outputs": [],
   "source": [
    "\n",
    "onboarding_agent = autogen.ConversableAgent(\n",
    "    name=\"onboarding_coordinator_agent\",\n",
    "    system_message=\"You are a banking onboarding coordinator agent and you need to get the required information from a customer that wants to open an account\"\n",
    "                    \" You need to get his firstt name, his last name, his address, his birth date, his nationality, his residence permit.\"\n",
    "                    \"Once you have all the information required please reply terminate\",\n",
    "    llm_config=llm_config,\n",
    "    human_input_mode=\"NEVER\",\n",
    "    code_execution_config=False\n",
    ")\n",
    "\n"
   ]
  },
  {
   "cell_type": "code",
   "execution_count": 32,
   "metadata": {},
   "outputs": [],
   "source": [
    "chats = [\n",
    "    {\n",
    "        \"sender\":onboarding_agent,\n",
    "        \"recipient\": customer_proxy_agent,\n",
    "        \"message\": \n",
    "            \"Hello, I'm here to help you get started with your onboarding.\"\n",
    "            \"Could you tell me your name and location?\",\n",
    "        \"summary_method\": \"reflection_with_llm\",\n",
    "        \"summary_args\": {\n",
    "            \"summary_prompt\" : \"Return the customer information \"\n",
    "                             \"into as JSON object only: \"\n",
    "                             \"{'name': '', 'location': ''}\",\n",
    "        },\n",
    "        \"max_turns\": 4,\n",
    "        \"clear_history\" : True\n",
    "    },\n",
    "]"
   ]
  },
  {
   "cell_type": "code",
   "execution_count": 33,
   "metadata": {},
   "outputs": [
    {
     "name": "stdout",
     "output_type": "stream",
     "text": [
      "\u001b[34m\n",
      "********************************************************************************\u001b[0m\n",
      "\u001b[34mStarting a new chat....\u001b[0m\n",
      "\u001b[34m\n",
      "********************************************************************************\u001b[0m\n",
      "\u001b[33monboarding_coordinator_agent\u001b[0m (to customer_proxy_agent):\n",
      "\n",
      "Hello, I'm here to help you get started with your onboarding.Could you tell me your name and location?\n",
      "\n",
      "--------------------------------------------------------------------------------\n",
      "\u001b[33mcustomer_proxy_agent\u001b[0m (to onboarding_coordinator_agent):\n",
      "\n",
      "patrick rotzetter 25 rue de lausanne 1197 prangins, swiss born in 22 4 1965\n",
      "\n",
      "--------------------------------------------------------------------------------\n",
      "\u001b[33monboarding_coordinator_agent\u001b[0m (to customer_proxy_agent):\n",
      "\n",
      "Thank you for providing that information, Patrick. I've noted your name and address. Let me confirm the details I have and ask for the remaining information we need:\n",
      "\n",
      "1. First Name: Patrick\n",
      "2. Last Name: Rotzetter\n",
      "3. Address: 25 rue de Lausanne, 1197 Prangins, Switzerland\n",
      "4. Birth Date: April 22, 1965\n",
      "\n",
      "I still need to confirm a couple more details:\n",
      "\n",
      "5. Nationality: Could you please confirm your nationality?\n",
      "\n",
      "6. Residence Permit: As you're living in Switzerland, do you have a residence permit? If so, could you provide the details?\n",
      "\n",
      "Once you provide this information, we'll have everything we need to proceed with your account opening.\n",
      "\n",
      "--------------------------------------------------------------------------------\n",
      "\u001b[31m\n",
      ">>>>>>>> NO HUMAN INPUT RECEIVED.\u001b[0m\n",
      "\u001b[31m\n",
      ">>>>>>>> USING AUTO REPLY...\u001b[0m\n",
      "\u001b[33mcustomer_proxy_agent\u001b[0m (to onboarding_coordinator_agent):\n",
      "\n",
      "\n",
      "\n",
      "--------------------------------------------------------------------------------\n",
      "\u001b[33monboarding_coordinator_agent\u001b[0m (to customer_proxy_agent):\n",
      "\n",
      "I apologize for the confusion. It seems you've already provided some information about your nationality by mentioning \"swiss.\" Let me clarify:\n",
      "\n",
      "5. Nationality: Swiss (Please confirm if this is correct)\n",
      "\n",
      "6. Residence Permit: Since you appear to be Swiss, you likely don't need a residence permit for Switzerland. However, could you please confirm that you are indeed a Swiss citizen and don't require a residence permit?\n",
      "\n",
      "Once you confirm these last two points, we'll have all the required information to complete your onboarding process. Thank you for your patience.\n",
      "\n",
      "--------------------------------------------------------------------------------\n",
      "\u001b[33mcustomer_proxy_agent\u001b[0m (to onboarding_coordinator_agent):\n",
      "\n",
      "yes confirmed\n",
      "\n",
      "--------------------------------------------------------------------------------\n",
      "\u001b[33monboarding_coordinator_agent\u001b[0m (to customer_proxy_agent):\n",
      "\n",
      "Thank you for confirming, Patrick. I now have all the required information for your account opening. Let me summarize the details we've collected:\n",
      "\n",
      "1. First Name: Patrick\n",
      "2. Last Name: Rotzetter\n",
      "3. Address: 25 rue de Lausanne, 1197 Prangins, Switzerland\n",
      "4. Birth Date: April 22, 1965\n",
      "5. Nationality: Swiss\n",
      "6. Residence Permit: Not required (Swiss citizen)\n",
      "\n",
      "All the necessary information has been collected for your onboarding process. Thank you for providing these details.\n",
      "\n",
      "terminate\n",
      "\n",
      "--------------------------------------------------------------------------------\n",
      "\u001b[31m\n",
      ">>>>>>>> NO HUMAN INPUT RECEIVED.\u001b[0m\n"
     ]
    },
    {
     "data": {
      "text/plain": [
       "[ChatResult(chat_id=None, chat_history=[{'content': \"Hello, I'm here to help you get started with your onboarding.Could you tell me your name and location?\", 'role': 'assistant'}, {'content': 'patrick rotzetter 25 rue de lausanne 1197 prangins, swiss born in 22 4 1965', 'role': 'user'}, {'content': \"Thank you for providing that information, Patrick. I've noted your name and address. Let me confirm the details I have and ask for the remaining information we need:\\n\\n1. First Name: Patrick\\n2. Last Name: Rotzetter\\n3. Address: 25 rue de Lausanne, 1197 Prangins, Switzerland\\n4. Birth Date: April 22, 1965\\n\\nI still need to confirm a couple more details:\\n\\n5. Nationality: Could you please confirm your nationality?\\n\\n6. Residence Permit: As you're living in Switzerland, do you have a residence permit? If so, could you provide the details?\\n\\nOnce you provide this information, we'll have everything we need to proceed with your account opening.\", 'role': 'assistant'}, {'content': '', 'role': 'user', 'name': 'customer_proxy_agent'}, {'content': 'I apologize for the confusion. It seems you\\'ve already provided some information about your nationality by mentioning \"swiss.\" Let me clarify:\\n\\n5. Nationality: Swiss (Please confirm if this is correct)\\n\\n6. Residence Permit: Since you appear to be Swiss, you likely don\\'t need a residence permit for Switzerland. However, could you please confirm that you are indeed a Swiss citizen and don\\'t require a residence permit?\\n\\nOnce you confirm these last two points, we\\'ll have all the required information to complete your onboarding process. Thank you for your patience.', 'role': 'assistant'}, {'content': 'yes confirmed', 'role': 'user'}, {'content': \"Thank you for confirming, Patrick. I now have all the required information for your account opening. Let me summarize the details we've collected:\\n\\n1. First Name: Patrick\\n2. Last Name: Rotzetter\\n3. Address: 25 rue de Lausanne, 1197 Prangins, Switzerland\\n4. Birth Date: April 22, 1965\\n5. Nationality: Swiss\\n6. Residence Permit: Not required (Swiss citizen)\\n\\nAll the necessary information has been collected for your onboarding process. Thank you for providing these details.\\n\\nterminate\", 'role': 'assistant', 'name': 'onboarding_coordinator_agent'}], summary={'content': '{\"name\": \"Patrick Rotzetter\", \"location\": \"25 rue de Lausanne, 1197 Prangins, Switzerland\"}', 'refusal': None, 'role': 'assistant', 'audio': None, 'function_call': None, 'tool_calls': None}, cost={'usage_including_cached_inference': {'total_cost': 0.010944, 'claude-3-5-sonnet-20240620': {'cost': 0.010944, 'prompt_tokens': 1378, 'completion_tokens': 454, 'total_tokens': 1832}}, 'usage_excluding_cached_inference': {'total_cost': 0.010944, 'claude-3-5-sonnet-20240620': {'cost': 0.010944, 'prompt_tokens': 1378, 'completion_tokens': 454, 'total_tokens': 1832}}}, human_input=[])]"
      ]
     },
     "execution_count": 33,
     "metadata": {},
     "output_type": "execute_result"
    }
   ],
   "source": [
    "from autogen import initiate_chats\n",
    "initiate_chats(chats)"
   ]
  },
  {
   "cell_type": "code",
   "execution_count": null,
   "metadata": {},
   "outputs": [],
   "source": []
  }
 ],
 "metadata": {
  "kernelspec": {
   "display_name": "py3.12.3",
   "language": "python",
   "name": "python3"
  },
  "language_info": {
   "codemirror_mode": {
    "name": "ipython",
    "version": 3
   },
   "file_extension": ".py",
   "mimetype": "text/x-python",
   "name": "python",
   "nbconvert_exporter": "python",
   "pygments_lexer": "ipython3",
   "version": "3.12.3"
  }
 },
 "nbformat": 4,
 "nbformat_minor": 2
}
