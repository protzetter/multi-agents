{
 "cells": [
  {
   "cell_type": "code",
   "execution_count": 2,
   "metadata": {},
   "outputs": [],
   "source": [
    "import os\n",
    "from dotenv import load_dotenv\n",
    "load_dotenv()\n",
    "\n",
    "key= os.getenv('ANTHROPIC_API_KEY')\n",
    "AWS_DEFAULT_REGION='us-east-1'\n"
   ]
  },
  {
   "cell_type": "code",
   "execution_count": 3,
   "metadata": {},
   "outputs": [],
   "source": [
    "from multi_agent_orchestrator.classifiers import AnthropicClassifier, AnthropicClassifierOptions\n",
    "from multi_agent_orchestrator.orchestrator import MultiAgentOrchestrator\n",
    "\n",
    "custom_anthropic_classifier = AnthropicClassifier(AnthropicClassifierOptions(\n",
    "    api_key=key,\n",
    "    model_id='claude-3-sonnet-20240229',\n",
    "    inference_config={\n",
    "        'max_tokens': 500,\n",
    "        'temperature': 0.7,\n",
    "        'top_p': 0.9,\n",
    "        'stop_sequences': ['']\n",
    "    }\n",
    "))\n",
    "\n",
    "orchestrator = MultiAgentOrchestrator(classifier=custom_anthropic_classifier)\n"
   ]
  },
  {
   "cell_type": "code",
   "execution_count": 26,
   "metadata": {},
   "outputs": [],
   "source": [
    "from multi_agent_orchestrator.agents import AnthropicAgent, AnthropicAgentOptions\n",
    "\n",
    "Cathy = AnthropicAgent(AnthropicAgentOptions(\n",
    "    name=\"Cathy\",\n",
    "    description=\"Your name is Cathy and you are a stand-up comedian.\",\n",
    "    model_id=\"claude-3-haiku-20240307\",\n",
    "    streaming=False,\n",
    "    api_key=key\n",
    "))\n",
    "\n",
    "Cathy.set_system_prompt(\"Your name is Cathy and you are a stand-up comedian. \"\n",
    "    \"Start the next joke from the punchline of the previous joke.\")\n",
    "Joe = AnthropicAgent(AnthropicAgentOptions(\n",
    "    name=\"Joe\",\n",
    "    description=\"Your name is Joe and you are a stand-up comedian.\",\n",
    "    model_id=\"claude-3-haiku-20240307\",\n",
    "    streaming=False,\n",
    "    api_key=key\n",
    "))\n",
    "Joe.set_system_prompt(\"Start the next joke from the punchline of the previous joke.\")"
   ]
  },
  {
   "cell_type": "code",
   "execution_count": 27,
   "metadata": {},
   "outputs": [],
   "source": [
    "from multi_agent_orchestrator.orchestrator import MultiAgentOrchestrator\n",
    "from multi_agent_orchestrator.classifiers import AnthropicClassifier, AnthropicClassifierOptions\n",
    "anthropic_classifier = AnthropicClassifier(AnthropicClassifierOptions(\n",
    "    api_key=key\n",
    "))\n",
    "orchestrator = MultiAgentOrchestrator(classifier=anthropic_classifier)"
   ]
  },
  {
   "cell_type": "code",
   "execution_count": 28,
   "metadata": {},
   "outputs": [],
   "source": [
    "orchestrator.add_agent(Joe)\n",
    "orchestrator.add_agent(Cathy)"
   ]
  },
  {
   "cell_type": "code",
   "execution_count": 29,
   "metadata": {},
   "outputs": [
    {
     "data": {
      "text/plain": [
       "{'joe': {'name': 'Joe',\n",
       "  'description': 'Your name is Joe and you are a stand-up comedian.'},\n",
       " 'cathy': {'name': 'Cathy',\n",
       "  'description': 'Your name is Cathy and you are a stand-up comedian.'}}"
      ]
     },
     "execution_count": 29,
     "metadata": {},
     "output_type": "execute_result"
    }
   ],
   "source": [
    "orchestrator.get_all_agents()"
   ]
  },
  {
   "cell_type": "code",
   "execution_count": 42,
   "metadata": {},
   "outputs": [
    {
     "data": {
      "text/plain": [
       "'Joe'"
      ]
     },
     "execution_count": 42,
     "metadata": {},
     "output_type": "execute_result"
    }
   ],
   "source": [
    "orchestrator.get_default_agent()"
   ]
  },
  {
   "cell_type": "code",
   "execution_count": 40,
   "metadata": {},
   "outputs": [],
   "source": [
    "orchestrator.set_default_agent('Joe')"
   ]
  },
  {
   "cell_type": "code",
   "execution_count": 41,
   "metadata": {},
   "outputs": [
    {
     "name": "stderr",
     "output_type": "stream",
     "text": [
      "/var/folders/tr/l8sfspw95tb9p3hrxw0_v7cc0000gn/T/ipykernel_3880/1558387289.py:1: RuntimeWarning: coroutine 'MultiAgentOrchestrator.route_request' was never awaited\n",
      "  response=orchestrator.route_request(user_input='tell me a joke',\n",
      "RuntimeWarning: Enable tracemalloc to get the object allocation traceback\n"
     ]
    }
   ],
   "source": [
    "response=orchestrator.route_request(user_input='tell me a joke',\n",
    "                           user_id='123456',\n",
    "                           session_id='1',\n",
    "                           additional_params={'temperature': 0.8})"
   ]
  },
  {
   "cell_type": "code",
   "execution_count": null,
   "metadata": {},
   "outputs": [],
   "source": []
  }
 ],
 "metadata": {
  "kernelspec": {
   "display_name": "py3.12.3",
   "language": "python",
   "name": "python3"
  },
  "language_info": {
   "codemirror_mode": {
    "name": "ipython",
    "version": 3
   },
   "file_extension": ".py",
   "mimetype": "text/x-python",
   "name": "python",
   "nbconvert_exporter": "python",
   "pygments_lexer": "ipython3",
   "version": "3.12.3"
  }
 },
 "nbformat": 4,
 "nbformat_minor": 2
}
